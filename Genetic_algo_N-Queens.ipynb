{
 "cells": [
  {
   "cell_type": "code",
   "execution_count": 1,
   "metadata": {},
   "outputs": [],
   "source": [
    "import numpy as np \n",
    "import random\n",
    "from collections import deque"
   ]
  },
  {
   "cell_type": "markdown",
   "metadata": {},
   "source": [
    "# N-Queen using generating algorithm"
   ]
  },
  {
   "cell_type": "code",
   "execution_count": 2,
   "metadata": {},
   "outputs": [],
   "source": [
    "def fitness(c):\n",
    "    n=len(c)\n",
    "    attack=0\n",
    "    for i in range(n):\n",
    "        j=i+1\n",
    "        while(j!=n):\n",
    "            if (c[i]==c[j]) or (c[i]+(j-i)==c[j]) or (c[i]-(j-i)==c[j]):\n",
    "                attack+=1\n",
    "            j+=1\n",
    "    return attack"
   ]
  },
  {
   "cell_type": "code",
   "execution_count": 3,
   "metadata": {},
   "outputs": [],
   "source": [
    "def select_parent(population,clash,n):\n",
    "    x=np.array(clash) \n",
    "    y=list(np.argsort(x))\n",
    "    parent=[]\n",
    "    for i in y:\n",
    "        parent.append(population[i])\n",
    "    return parent[0:n]"
   ]
  },
  {
   "cell_type": "code",
   "execution_count": 133,
   "metadata": {},
   "outputs": [],
   "source": [
    "def find_solution(clash):\n",
    "    solution=[]\n",
    "    for i in range(len(clash)):\n",
    "        if clash[i]==0:\n",
    "            solution.append(i)\n",
    "    return solution"
   ]
  },
  {
   "cell_type": "code",
   "execution_count": 234,
   "metadata": {},
   "outputs": [],
   "source": [
    "def reproduce(n):\n",
    "    population=[]\n",
    "    clash=[]\n",
    "    count=1\n",
    "    for i in range (10*n):\n",
    "        temp=[temp for temp in range(1,n+1)]\n",
    "        random.shuffle(temp)\n",
    "        population.append(temp)\n",
    "    for i in range (len(population)):\n",
    "        clash.append(fitness(population[i]))\n",
    "\n",
    "    while(min(clash)!=0):\n",
    "        count+=1\n",
    "        p=select_parent(population,clash,10)\n",
    "        population.clear()\n",
    "        clash.clear()\n",
    "        population=p\n",
    "        for i in range(len(p)):\n",
    "            for j in range(1,n):\n",
    "                temp=p[i]\n",
    "                x=random.randint(0,n//2)\n",
    "                y=random.randint((n//2)+1,n-1)\n",
    "                temp[x],temp[y]=temp[y],temp[x]\n",
    "                population.append(temp)\n",
    "        \n",
    "        for i in range (len(population)):\n",
    "            clash.append(fitness(population[i]))\n",
    "    print(f'solution found in Generation:{count}')\n",
    "    solution=find_solution(clash)\n",
    "    \n",
    "    unique_sol=[]\n",
    "    for i in solution:\n",
    "        if population[i] not in unique_sol:\n",
    "            unique_sol.append(population[i])\n",
    "    \n",
    "    for i in range(len(unique_sol)):\n",
    "        print(unique_sol[i])\n",
    "        for k in range(n):\n",
    "            for j in range(1,n+1):\n",
    "                if j==unique_sol[i][k]:\n",
    "                    print(' X ',end='')\n",
    "                else:\n",
    "                    print(' O ',end='')\n",
    "            print('')\n",
    "        print('',end='\\n\\n')"
   ]
  },
  {
   "cell_type": "code",
   "execution_count": 253,
   "metadata": {},
   "outputs": [
    {
     "name": "stdout",
     "output_type": "stream",
     "text": [
      "solution found in Generation:2100\n",
      "[8, 5, 2, 9, 3, 10, 7, 4, 1, 11, 6]\n",
      " O  O  O  O  O  O  O  X  O  O  O \n",
      " O  O  O  O  X  O  O  O  O  O  O \n",
      " O  X  O  O  O  O  O  O  O  O  O \n",
      " O  O  O  O  O  O  O  O  X  O  O \n",
      " O  O  X  O  O  O  O  O  O  O  O \n",
      " O  O  O  O  O  O  O  O  O  X  O \n",
      " O  O  O  O  O  O  X  O  O  O  O \n",
      " O  O  O  X  O  O  O  O  O  O  O \n",
      " X  O  O  O  O  O  O  O  O  O  O \n",
      " O  O  O  O  O  O  O  O  O  O  X \n",
      " O  O  O  O  O  X  O  O  O  O  O \n",
      "\n",
      "\n"
     ]
    }
   ],
   "source": [
    "reproduce(11)"
   ]
  },
  {
   "cell_type": "code",
   "execution_count": null,
   "metadata": {},
   "outputs": [],
   "source": []
  },
  {
   "cell_type": "code",
   "execution_count": null,
   "metadata": {},
   "outputs": [],
   "source": []
  },
  {
   "cell_type": "code",
   "execution_count": null,
   "metadata": {},
   "outputs": [],
   "source": []
  },
  {
   "cell_type": "code",
   "execution_count": null,
   "metadata": {},
   "outputs": [],
   "source": []
  }
 ],
 "metadata": {
  "kernelspec": {
   "display_name": "Python 3",
   "language": "python",
   "name": "python3"
  },
  "language_info": {
   "codemirror_mode": {
    "name": "ipython",
    "version": 3
   },
   "file_extension": ".py",
   "mimetype": "text/x-python",
   "name": "python",
   "nbconvert_exporter": "python",
   "pygments_lexer": "ipython3",
   "version": "3.7.3"
  }
 },
 "nbformat": 4,
 "nbformat_minor": 4
}
